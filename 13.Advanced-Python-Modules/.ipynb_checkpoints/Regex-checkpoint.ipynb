{
 "cells": [
  {
   "cell_type": "markdown",
   "metadata": {},
   "source": [
    "### Regex"
   ]
  },
  {
   "cell_type": "code",
   "execution_count": 1,
   "metadata": {},
   "outputs": [],
   "source": [
    "import re"
   ]
  },
  {
   "cell_type": "code",
   "execution_count": 9,
   "metadata": {},
   "outputs": [
    {
     "name": "stdout",
     "output_type": "stream",
     "text": [
      "<_sre.SRE_Match object; span=(0, 5), match='hello'>\n"
     ]
    }
   ],
   "source": [
    "print(re.search(\"hello\", \"hello world\")) # returns a match object"
   ]
  },
  {
   "cell_type": "code",
   "execution_count": 8,
   "metadata": {},
   "outputs": [
    {
     "name": "stdout",
     "output_type": "stream",
     "text": [
      "None\n"
     ]
    }
   ],
   "source": [
    "print(re.search(\"foo123\", \"bar\"))"
   ]
  },
  {
   "cell_type": "code",
   "execution_count": 2,
   "metadata": {},
   "outputs": [],
   "source": [
    "patterns = [\"term1\", \"term2\"]"
   ]
  },
  {
   "cell_type": "code",
   "execution_count": 3,
   "metadata": {},
   "outputs": [],
   "source": [
    "text = \"This is a string with term1 but not the other term\""
   ]
  },
  {
   "cell_type": "code",
   "execution_count": 5,
   "metadata": {},
   "outputs": [
    {
     "name": "stdout",
     "output_type": "stream",
     "text": [
      "Search for term1 in text\n",
      "\n",
      "Match found\n",
      "\n",
      "Search for term2 in text\n",
      "\n",
      "Match NOT found\n",
      "\n"
     ]
    }
   ],
   "source": [
    "for pattern in patterns:\n",
    "    print(f\"Search for {pattern} in text\")\n",
    "    \n",
    "    if re.search(pattern, text):\n",
    "        print(\"\\nMatch found\\n\")\n",
    "    else:\n",
    "        print(\"\\nMatch NOT found\\n\")"
   ]
  },
  {
   "cell_type": "markdown",
   "metadata": {},
   "source": [
    "### The match object"
   ]
  },
  {
   "cell_type": "code",
   "execution_count": 10,
   "metadata": {},
   "outputs": [],
   "source": [
    "match = re.search(patterns[0], text)"
   ]
  },
  {
   "cell_type": "code",
   "execution_count": 13,
   "metadata": {},
   "outputs": [
    {
     "data": {
      "text/plain": [
       "22"
      ]
     },
     "execution_count": 13,
     "metadata": {},
     "output_type": "execute_result"
    }
   ],
   "source": [
    "match.start()"
   ]
  },
  {
   "cell_type": "code",
   "execution_count": 14,
   "metadata": {},
   "outputs": [
    {
     "data": {
      "text/plain": [
       "27"
      ]
     },
     "execution_count": 14,
     "metadata": {},
     "output_type": "execute_result"
    }
   ],
   "source": [
    "match.end()"
   ]
  },
  {
   "cell_type": "code",
   "execution_count": null,
   "metadata": {},
   "outputs": [],
   "source": []
  },
  {
   "cell_type": "code",
   "execution_count": 15,
   "metadata": {},
   "outputs": [],
   "source": [
    "split_term = \"@\"\n",
    "text = \"What's your email? hello@gmail.com?\""
   ]
  },
  {
   "cell_type": "code",
   "execution_count": 16,
   "metadata": {},
   "outputs": [
    {
     "data": {
      "text/plain": [
       "[\"What's your email? hello\", 'gmail.com?']"
      ]
     },
     "execution_count": 16,
     "metadata": {},
     "output_type": "execute_result"
    }
   ],
   "source": [
    "re.split(split_term, text)"
   ]
  },
  {
   "cell_type": "code",
   "execution_count": null,
   "metadata": {},
   "outputs": [],
   "source": []
  },
  {
   "cell_type": "code",
   "execution_count": 19,
   "metadata": {},
   "outputs": [
    {
     "data": {
      "text/plain": [
       "['match', 'match']"
      ]
     },
     "execution_count": 19,
     "metadata": {},
     "output_type": "execute_result"
    }
   ],
   "source": [
    "re.findall(\"match\", \"here is one match, and another match...\")"
   ]
  },
  {
   "cell_type": "markdown",
   "metadata": {},
   "source": [
    "### Meta Characters"
   ]
  },
  {
   "cell_type": "code",
   "execution_count": 25,
   "metadata": {},
   "outputs": [],
   "source": [
    "def multi_re_find(patterns, phrase):\n",
    "    for pattern in patterns:\n",
    "        print(f\"Search phrase using the re check: {pattern}\")\n",
    "        print(re.findall(pattern, phrase))\n",
    "        print(\"\\n\")"
   ]
  },
  {
   "cell_type": "code",
   "execution_count": 26,
   "metadata": {},
   "outputs": [],
   "source": [
    "test_text = \"sdsd...sssddd...sdddsddd...dsds...dssss...sdddd\"\n",
    "patterns = [\n",
    "    \"sd*\", # s followed by 0 or more d\n",
    "    \"sd+\", # s followed by 1 or more d\n",
    "    \"sd?\", # s followed by 1 or 0 d\n",
    "    \"sd{3}\", # s followed by d repeat 3 times\n",
    "    \"sd{2,3}\" # s followed by d repeat 2 to 3 times\n",
    "]"
   ]
  },
  {
   "cell_type": "code",
   "execution_count": 27,
   "metadata": {},
   "outputs": [
    {
     "name": "stdout",
     "output_type": "stream",
     "text": [
      "Search phrase using the re check: sd*\n",
      "['sd', 'sd', 's', 's', 'sddd', 'sddd', 'sddd', 'sd', 's', 's', 's', 's', 's', 'sdddd']\n",
      "\n",
      "\n",
      "Search phrase using the re check: sd+\n",
      "['sd', 'sd', 'sddd', 'sddd', 'sddd', 'sd', 'sdddd']\n",
      "\n",
      "\n",
      "Search phrase using the re check: sd?\n",
      "['sd', 'sd', 's', 's', 'sd', 'sd', 'sd', 'sd', 's', 's', 's', 's', 's', 'sd']\n",
      "\n",
      "\n",
      "Search phrase using the re check: sd{3}\n",
      "['sddd', 'sddd', 'sddd', 'sddd']\n",
      "\n",
      "\n",
      "Search phrase using the re check: sd{2,3}\n",
      "['sddd', 'sddd', 'sddd', 'sddd']\n",
      "\n",
      "\n"
     ]
    }
   ],
   "source": [
    "multi_re_find(patterns, test_text)"
   ]
  },
  {
   "cell_type": "markdown",
   "metadata": {},
   "source": [
    "### Character set"
   ]
  },
  {
   "cell_type": "code",
   "execution_count": 28,
   "metadata": {},
   "outputs": [
    {
     "name": "stdout",
     "output_type": "stream",
     "text": [
      "Search phrase using the re check: [sd]\n",
      "['s', 'd', 's', 'd', 's', 's', 's', 'd', 'd', 'd', 's', 'd', 'd', 'd', 's', 'd', 'd', 'd', 'd', 's', 'd', 's', 'd', 's', 's', 's', 's', 's', 'd', 'd', 'd', 'd']\n",
      "\n",
      "\n",
      "Search phrase using the re check: s[sd]+\n",
      "['sdsd', 'sssddd', 'sdddsddd', 'sds', 'ssss', 'sdddd']\n",
      "\n",
      "\n"
     ]
    }
   ],
   "source": [
    "test_text = \"sdsd...sssddd...sdddsddd...dsds...dssss...sdddd\"\n",
    "patterns = [\n",
    "    \"[sd]\",\n",
    "    \"s[sd]+\"\n",
    "]\n",
    "multi_re_find(patterns, test_text)"
   ]
  },
  {
   "cell_type": "markdown",
   "metadata": {},
   "source": [
    "### Exclusion"
   ]
  },
  {
   "cell_type": "code",
   "execution_count": 31,
   "metadata": {},
   "outputs": [
    {
     "name": "stdout",
     "output_type": "stream",
     "text": [
      "Search phrase using the re check: [^?!. ]+\n",
      "['This', 'is', 'a', 'sentence', 'with', 'punctutations', 'Not', 'good', 'How', 'can', 'I', 'remove', 'them']\n",
      "\n",
      "\n"
     ]
    }
   ],
   "source": [
    "test_text = \"This is a sentence with punctutations. Not good! How can I remove them?\"\n",
    "patterns = [\n",
    "    \"[^?!. ]+\"\n",
    "]\n",
    "multi_re_find(patterns, test_text)"
   ]
  },
  {
   "cell_type": "markdown",
   "metadata": {},
   "source": [
    "### Character Ranges"
   ]
  },
  {
   "cell_type": "code",
   "execution_count": 33,
   "metadata": {},
   "outputs": [
    {
     "name": "stdout",
     "output_type": "stream",
     "text": [
      "Search phrase using the re check: [a-z]+\n",
      "['his', 'is', 'a', 'string', 'et', 's', 'see', 'if', 'we', 'can', 'find', 'some', 'letters', 'from', 'it']\n",
      "\n",
      "\n",
      "Search phrase using the re check: [A-Z]+\n",
      "['T', 'L']\n",
      "\n",
      "\n",
      "Search phrase using the re check: [a-zA-Z]+\n",
      "['This', 'is', 'a', 'string', 'Let', 's', 'see', 'if', 'we', 'can', 'find', 'some', 'letters', 'from', 'it']\n",
      "\n",
      "\n",
      "Search phrase using the re check: [A-Z][a-z]+\n",
      "['This', 'Let']\n",
      "\n",
      "\n"
     ]
    }
   ],
   "source": [
    "test_text = \"This is a string. Let's see if we can find some letters from it.\"\n",
    "patterns = [\n",
    "    \"[a-z]+\", # sequence of lower case letters\n",
    "    \"[A-Z]+\", # sequence of upper case letters\n",
    "    \"[a-zA-Z]+\", # sequence of upper and lower case letters\n",
    "    \"[A-Z][a-z]+\" # sequence of one upper case letter followed by lower case letters\n",
    "]\n",
    "multi_re_find(patterns, test_text)"
   ]
  },
  {
   "cell_type": "markdown",
   "metadata": {},
   "source": [
    "### Escape Characters"
   ]
  },
  {
   "cell_type": "code",
   "execution_count": 34,
   "metadata": {},
   "outputs": [
    {
     "name": "stdout",
     "output_type": "stream",
     "text": [
      "Search phrase using the re check: \\d+\n",
      "['123']\n",
      "\n",
      "\n",
      "Search phrase using the re check: \\D+\n",
      "['This is a string with some number ', ' and a symbol of #hashtag']\n",
      "\n",
      "\n",
      "Search phrase using the re check: \\s+\n",
      "[' ', ' ', ' ', ' ', ' ', ' ', ' ', ' ', ' ', ' ', ' ', ' ']\n",
      "\n",
      "\n",
      "Search phrase using the re check: \\S+\n",
      "['This', 'is', 'a', 'string', 'with', 'some', 'number', '123', 'and', 'a', 'symbol', 'of', '#hashtag']\n",
      "\n",
      "\n",
      "Search phrase using the re check: \\w+\n",
      "['This', 'is', 'a', 'string', 'with', 'some', 'number', '123', 'and', 'a', 'symbol', 'of', 'hashtag']\n",
      "\n",
      "\n",
      "Search phrase using the re check: \\W+\n",
      "[' ', ' ', ' ', ' ', ' ', ' ', ' ', ' ', ' ', ' ', ' ', ' #']\n",
      "\n",
      "\n"
     ]
    }
   ],
   "source": [
    "test_text = \"This is a string with some number 123 and a symbol of #hashtag\"\n",
    "patterns = [\n",
    "    r\"\\d+\", # sequence of digits\n",
    "    r\"\\D+\", # sequence of non-digits\n",
    "    r\"\\s+\", # sequence of space, tab and newlines\n",
    "    r\"\\S+\", # sequence of none space, tab and newlines\n",
    "    r\"\\w+\", # sequence of alphabetical characters\n",
    "    r\"\\W+\", # sequence of non-alphabetical characters\n",
    "]\n",
    "multi_re_find(patterns, test_text)"
   ]
  },
  {
   "cell_type": "code",
   "execution_count": null,
   "metadata": {},
   "outputs": [],
   "source": []
  }
 ],
 "metadata": {
  "kernelspec": {
   "display_name": "Python 3",
   "language": "python",
   "name": "python3"
  },
  "language_info": {
   "codemirror_mode": {
    "name": "ipython",
    "version": 3
   },
   "file_extension": ".py",
   "mimetype": "text/x-python",
   "name": "python",
   "nbconvert_exporter": "python",
   "pygments_lexer": "ipython3",
   "version": "3.6.5"
  }
 },
 "nbformat": 4,
 "nbformat_minor": 2
}
