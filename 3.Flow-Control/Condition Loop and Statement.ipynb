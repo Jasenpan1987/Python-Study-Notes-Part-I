{
 "cells": [
  {
   "cell_type": "markdown",
   "metadata": {},
   "source": [
    "### if else elif"
   ]
  },
  {
   "cell_type": "code",
   "execution_count": 2,
   "metadata": {},
   "outputs": [
    {
     "name": "stdout",
     "output_type": "stream",
     "text": [
      "its true\n"
     ]
    }
   ],
   "source": [
    "if True:\n",
    "    print(\"its true\")"
   ]
  },
  {
   "cell_type": "code",
   "execution_count": 5,
   "metadata": {},
   "outputs": [],
   "source": [
    "if(3<2):\n",
    "    print(\"true\")"
   ]
  },
  {
   "cell_type": "code",
   "execution_count": 8,
   "metadata": {},
   "outputs": [
    {
     "name": "stdout",
     "output_type": "stream",
     "text": [
      "I'm not hungry\n"
     ]
    }
   ],
   "source": [
    "hungry=False\n",
    "if(hungry):\n",
    "    print(\"feed me\")\n",
    "else:\n",
    "    print(\"I'm not hungry\")"
   ]
  },
  {
   "cell_type": "code",
   "execution_count": 11,
   "metadata": {},
   "outputs": [
    {
     "name": "stdout",
     "output_type": "stream",
     "text": [
      "lots of stuffs\n"
     ]
    }
   ],
   "source": [
    "loc=\"Store\"\n",
    "if(loc==\"Auto Shop\"):\n",
    "    print(\"cars are cool.\")\n",
    "elif(loc==\"Bank\"):\n",
    "    print(\"lots of money\")\n",
    "elif(loc==\"Store\"):\n",
    "    print(\"lots of stuffs\")\n",
    "else:\n",
    "    print(\"I dont know where you are.\")"
   ]
  },
  {
   "cell_type": "markdown",
   "metadata": {},
   "source": [
    "### For loop"
   ]
  },
  {
   "cell_type": "code",
   "execution_count": 13,
   "metadata": {},
   "outputs": [
    {
     "name": "stdout",
     "output_type": "stream",
     "text": [
      "1\n",
      "2\n",
      "3\n"
     ]
    }
   ],
   "source": [
    "mylist = [1,2,3]\n",
    "for num in mylist:\n",
    "    print(num)"
   ]
  },
  {
   "cell_type": "code",
   "execution_count": 18,
   "metadata": {},
   "outputs": [
    {
     "name": "stdout",
     "output_type": "stream",
     "text": [
      "2\n",
      "4\n",
      "6\n",
      "8\n"
     ]
    }
   ],
   "source": [
    "mynum = [1,2,3,4,5,6,7,8]\n",
    "for num in mynum:\n",
    "    if(num % 2 == 0):\n",
    "        print(num)"
   ]
  },
  {
   "cell_type": "code",
   "execution_count": 20,
   "metadata": {},
   "outputs": [
    {
     "data": {
      "text/plain": [
       "36"
      ]
     },
     "execution_count": 20,
     "metadata": {},
     "output_type": "execute_result"
    }
   ],
   "source": [
    "list_sum = 0\n",
    "for num in mynum:\n",
    "    list_sum += num\n",
    "list_sum"
   ]
  },
  {
   "cell_type": "code",
   "execution_count": 21,
   "metadata": {},
   "outputs": [
    {
     "name": "stdout",
     "output_type": "stream",
     "text": [
      "1\n",
      "2\n",
      "3\n"
     ]
    },
    {
     "data": {
      "text/plain": [
       "3"
      ]
     },
     "execution_count": 21,
     "metadata": {},
     "output_type": "execute_result"
    }
   ],
   "source": [
    "tup = (1,2,3)\n",
    "for num in tup:\n",
    "    print(num)\n",
    "num # like the var in js, you can still visit the temp variable event outside the loop"
   ]
  },
  {
   "cell_type": "code",
   "execution_count": 23,
   "metadata": {},
   "outputs": [
    {
     "name": "stdout",
     "output_type": "stream",
     "text": [
      "a: 1, b: 2\n",
      "a: 3, b: 4\n",
      "a: 5, b: 6\n",
      "a: 7, b: 8\n"
     ]
    }
   ],
   "source": [
    "mylist = [(1,2), (3,4), (5,6), (7,8)]\n",
    "for (a, b) in mylist:\n",
    "    print(f\"a: {a}, b: {b}\") # like distructoring in js"
   ]
  },
  {
   "cell_type": "code",
   "execution_count": 24,
   "metadata": {},
   "outputs": [
    {
     "name": "stdout",
     "output_type": "stream",
     "text": [
      "a: 1, b: 2, c: 3\n",
      "a: 4, b: 5, c: 6\n",
      "a: 7, b: 8, c: 9\n"
     ]
    }
   ],
   "source": [
    "mylist = [(1,2,3), (4,5,6), (7,8,9)]\n",
    "for a,b,c in mylist:\n",
    "    print(f\"a: {a}, b: {b}, c: {c}\")"
   ]
  },
  {
   "cell_type": "code",
   "execution_count": 28,
   "metadata": {},
   "outputs": [
    {
     "name": "stdout",
     "output_type": "stream",
     "text": [
      "keys: foo\n",
      "keys: bar\n",
      "values: 1\n",
      "values: 2\n",
      "item: ('foo', '1')\n",
      "item: ('bar', '2')\n"
     ]
    }
   ],
   "source": [
    "mydictionary = {\"foo\": \"1\", \"bar\": \"2\"}\n",
    "for key in mydictionary:\n",
    "    print(f\"keys: {key}\")\n",
    "\n",
    "for value in mydictionary.values():\n",
    "    print(f\"values: {value}\")\n",
    "\n",
    "for item in mydictionary.items():\n",
    "    print(f\"item: {item}\")\n"
   ]
  },
  {
   "cell_type": "markdown",
   "metadata": {},
   "source": [
    "### while loop"
   ]
  },
  {
   "cell_type": "code",
   "execution_count": 33,
   "metadata": {},
   "outputs": [
    {
     "name": "stdout",
     "output_type": "stream",
     "text": [
      "current x is 0\n",
      "current x is 1\n",
      "current x is 2\n",
      "x finished 3\n"
     ]
    }
   ],
   "source": [
    "x=0\n",
    "while x<3:\n",
    "    print(f\"current x is {x}\")\n",
    "    x += 1\n",
    "else:\n",
    "    print(f\"x finished {x}\")"
   ]
  },
  {
   "cell_type": "markdown",
   "metadata": {},
   "source": [
    "### break, continue, pass"
   ]
  },
  {
   "cell_type": "code",
   "execution_count": 35,
   "metadata": {},
   "outputs": [
    {
     "name": "stdout",
     "output_type": "stream",
     "text": [
      "end of my script\n"
     ]
    }
   ],
   "source": [
    "x=[1,2,3]\n",
    "for item in x:\n",
    "    pass # do nothing at all, like a placeholder in code.\n",
    "print(\"end of my script\")"
   ]
  },
  {
   "cell_type": "code",
   "execution_count": 37,
   "metadata": {},
   "outputs": [
    {
     "name": "stdout",
     "output_type": "stream",
     "text": [
      "s\n",
      "a\n",
      "y\n"
     ]
    }
   ],
   "source": [
    "mystr = \"sammy\"\n",
    "for l in mystr:\n",
    "    if l == \"m\":\n",
    "        continue # go back to the top of the loop\n",
    "    print(l)"
   ]
  },
  {
   "cell_type": "code",
   "execution_count": 38,
   "metadata": {},
   "outputs": [
    {
     "name": "stdout",
     "output_type": "stream",
     "text": [
      "s\n",
      "a\n"
     ]
    }
   ],
   "source": [
    "mystr = \"sammy\"\n",
    "for l in mystr:\n",
    "    if l == \"m\":\n",
    "        break # stops the loop when hit the condition\n",
    "    print(l)"
   ]
  },
  {
   "cell_type": "markdown",
   "metadata": {},
   "source": []
  }
 ],
 "metadata": {
  "kernelspec": {
   "display_name": "Python 3",
   "language": "python",
   "name": "python3"
  },
  "language_info": {
   "codemirror_mode": {
    "name": "ipython",
    "version": 3
   },
   "file_extension": ".py",
   "mimetype": "text/x-python",
   "name": "python",
   "nbconvert_exporter": "python",
   "pygments_lexer": "ipython3",
   "version": "3.6.5"
  }
 },
 "nbformat": 4,
 "nbformat_minor": 2
}
