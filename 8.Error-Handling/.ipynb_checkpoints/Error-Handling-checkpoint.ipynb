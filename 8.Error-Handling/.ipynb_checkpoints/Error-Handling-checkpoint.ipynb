{
 "cells": [
  {
   "cell_type": "code",
   "execution_count": 1,
   "metadata": {},
   "outputs": [],
   "source": [
    "def add(x, y):\n",
    "    return x + y"
   ]
  },
  {
   "cell_type": "code",
   "execution_count": 2,
   "metadata": {},
   "outputs": [
    {
     "name": "stdout",
     "output_type": "stream",
     "text": [
      "Please provide a number20\n"
     ]
    }
   ],
   "source": [
    "num1=10\n",
    "num2=input(\"Please provide a number\")"
   ]
  },
  {
   "cell_type": "code",
   "execution_count": 4,
   "metadata": {},
   "outputs": [],
   "source": [
    "# add(num1, num2) # this will raise an error because num2 is a string"
   ]
  },
  {
   "cell_type": "code",
   "execution_count": 6,
   "metadata": {},
   "outputs": [],
   "source": [
    "# print(\"Something happened\") # this line will never happen"
   ]
  },
  {
   "cell_type": "code",
   "execution_count": 9,
   "metadata": {},
   "outputs": [
    {
     "name": "stdout",
     "output_type": "stream",
     "text": [
      "It went will\n",
      "20\n"
     ]
    }
   ],
   "source": [
    "try:\n",
    "#     result = 10 + \"10\"\n",
    "    result = 10 + 10\n",
    "except:\n",
    "    print(\"it looks like you were not adding correctly\")\n",
    "else:\n",
    "    print(\"It went will\")\n",
    "    print(result)"
   ]
  },
  {
   "cell_type": "code",
   "execution_count": null,
   "metadata": {},
   "outputs": [],
   "source": []
  },
  {
   "cell_type": "code",
   "execution_count": 12,
   "metadata": {},
   "outputs": [
    {
     "name": "stdout",
     "output_type": "stream",
     "text": [
      "There was a type error\n",
      "I always run\n"
     ]
    }
   ],
   "source": [
    "try:\n",
    "    f = open(\"test.txt\", mode=\"w\") # try to change mode to r will introduce an OSError\n",
    "    f.write(\"write something...\")\n",
    "    \n",
    "except TypeError: # check for a specific type of errors\n",
    "    print(\"There was a type error\")\n",
    "    \n",
    "except OSError: # check for a specific type of errors\n",
    "    print(\"You have an OS error\")\n",
    "\n",
    "except: # all other error will go to here\n",
    "    print(\"All other excpetions\")\n",
    "    \n",
    "finally: # run anyway\n",
    "    print(\"I always run\")"
   ]
  },
  {
   "cell_type": "code",
   "execution_count": null,
   "metadata": {},
   "outputs": [],
   "source": []
  },
  {
   "cell_type": "code",
   "execution_count": 16,
   "metadata": {},
   "outputs": [],
   "source": [
    "def ask_for_int(): # keep asking for user to input a number until the user does input a number\n",
    "    while True:\n",
    "        try:\n",
    "            result = int(input(\"please provide a number\"))\n",
    "            \n",
    "        except:\n",
    "            print(\"oops, that's not a number\")\n",
    "            continue\n",
    "        \n",
    "        else: # no excpetion\n",
    "            print(f\"cool, the result is {result}\")\n",
    "            break\n",
    "            \n",
    "        finally:\n",
    "            print(\"function ends\")\n",
    "            print(\"i will run at the end\")"
   ]
  },
  {
   "cell_type": "code",
   "execution_count": 17,
   "metadata": {},
   "outputs": [
    {
     "name": "stdout",
     "output_type": "stream",
     "text": [
      "please provide a numbers\n",
      "oops, that's not a number\n",
      "function ends\n",
      "please provide a numberd\n",
      "oops, that's not a number\n",
      "function ends\n",
      "please provide a number3\n",
      "cool, the result is 3\n",
      "function ends\n"
     ]
    }
   ],
   "source": [
    "ask_for_int()"
   ]
  },
  {
   "cell_type": "code",
   "execution_count": null,
   "metadata": {},
   "outputs": [],
   "source": []
  }
 ],
 "metadata": {
  "kernelspec": {
   "display_name": "Python 3",
   "language": "python",
   "name": "python3"
  },
  "language_info": {
   "codemirror_mode": {
    "name": "ipython",
    "version": 3
   },
   "file_extension": ".py",
   "mimetype": "text/x-python",
   "name": "python",
   "nbconvert_exporter": "python",
   "pygments_lexer": "ipython3",
   "version": "3.6.5"
  }
 },
 "nbformat": 4,
 "nbformat_minor": 2
}
