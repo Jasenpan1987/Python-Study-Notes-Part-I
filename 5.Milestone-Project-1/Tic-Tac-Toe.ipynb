{
 "cells": [
  {
   "cell_type": "code",
   "execution_count": 1,
   "metadata": {},
   "outputs": [],
   "source": [
    "bord=[[\"_\",\"_\",\"_\"],[\"_\",\"_\",\"_\"],[\"_\",\"_\",\"_\"]]"
   ]
  },
  {
   "cell_type": "code",
   "execution_count": 2,
   "metadata": {},
   "outputs": [],
   "source": [
    "from IPython.display import clear_output\n",
    "def print_bord():\n",
    "    clear_output()\n",
    "    s=\"\"\n",
    "    for row in bord:\n",
    "        for col in row:\n",
    "            s+=f\"{col} \"\n",
    "        s+=\"\\n\"\n",
    "    print(s)"
   ]
  },
  {
   "cell_type": "code",
   "execution_count": 3,
   "metadata": {},
   "outputs": [],
   "source": [
    "def ask_for_start():\n",
    "    choice=\"\"\n",
    "    while not choice in [\"x\", \"o\"]:\n",
    "        choice = input(\"Do you want to play with x or o\").lower()\n",
    "    return choice"
   ]
  },
  {
   "cell_type": "code",
   "execution_count": 4,
   "metadata": {},
   "outputs": [],
   "source": [
    "# ask_for_start()"
   ]
  },
  {
   "cell_type": "code",
   "execution_count": 5,
   "metadata": {},
   "outputs": [],
   "source": [
    "def map_num_to_pos(num):\n",
    "    # (row, col)\n",
    "    bord_map={\"0\": (0,0), \"1\": (0,1), \"2\": (0,2), \"3\": (1,0), \"4\": (1,1), \"5\": (1,2), \"6\": (2,0), \"7\": (2,1), \"8\": (2,2)}\n",
    "    print(bord_map[f\"{num}\"])\n",
    "    return bord_map[f\"{num}\"]"
   ]
  },
  {
   "cell_type": "code",
   "execution_count": 6,
   "metadata": {},
   "outputs": [],
   "source": [
    "# map_num_to_pos(8)"
   ]
  },
  {
   "cell_type": "code",
   "execution_count": 7,
   "metadata": {},
   "outputs": [],
   "source": [
    "def place_key(pl_key,num):\n",
    "    cord=map_num_to_pos(num)\n",
    "    if bord[cord[0]][cord[1]]!=\"_\":\n",
    "        return False\n",
    "    else:\n",
    "        bord[cord[0]][cord[1]]=pl_key\n",
    "        return True"
   ]
  },
  {
   "cell_type": "code",
   "execution_count": 8,
   "metadata": {},
   "outputs": [],
   "source": [
    "def player_input(pl_key):\n",
    "    pos=-1\n",
    "    while pos<0 or pos>8:\n",
    "        pos=int(input(\"Where do you want to put?\"))\n",
    "        if not place_key(pl_key, pos):\n",
    "            input(\"This position has a key already, press any key to continue\")\n",
    "            pos=-1"
   ]
  },
  {
   "cell_type": "code",
   "execution_count": 9,
   "metadata": {},
   "outputs": [],
   "source": [
    "def bord_full():\n",
    "    for row in bord:\n",
    "        for col in row:\n",
    "            if col==\"_\":\n",
    "                return False\n",
    "    return True\n",
    "    "
   ]
  },
  {
   "cell_type": "code",
   "execution_count": 10,
   "metadata": {},
   "outputs": [],
   "source": [
    "def check_win():\n",
    "    for r in range(0,len(bord)):\n",
    "        for c in range(0,len(bord[r])):\n",
    "            if bord[r][c]!=\"_\":\n",
    "                if r==0 and c==0:\n",
    "                    if bord[r][c]==bord[r][c+1]==bord[r][c+2]: return True\n",
    "                    elif bord[r][c]==bord[r+1][c]==bord[r+2][c]: return True\n",
    "                    elif bord[r][c]==bord[r+1][c+1]==bord[r+2][c+2]: return True\n",
    "                elif r==0 and c==1:\n",
    "                    if bord[r][c]==bord[r+1][c]==bord[r+2][c]: return True\n",
    "                elif r==0 and c==2:\n",
    "                    if bord[r][c]==bord[r+1][c-1]==bord[r+2][c-2]: return True\n",
    "                elif r==1 and c==0:\n",
    "                    if bord[r][c]==bord[r][c+1]==bord[r][c+2]: return True\n",
    "                elif r==2 and c==0:\n",
    "                    if bord[r][c]==bord[r][c+1]==bord[r][c+2]: return True\n",
    "            c+=1\n",
    "        r+=1\n",
    "    return False"
   ]
  },
  {
   "cell_type": "code",
   "execution_count": 11,
   "metadata": {},
   "outputs": [],
   "source": [
    "def start_game():\n",
    "    p1=True\n",
    "    while not bord_full():\n",
    "        print_bord()\n",
    "        if p1:\n",
    "            player_input(\"x\")\n",
    "            if check_win():\n",
    "                print(\"game over, player 1 wins\")\n",
    "                break\n",
    "            else:\n",
    "                p1=False\n",
    "        else:\n",
    "            player_input(\"o\")\n",
    "            if check_win():\n",
    "                print(\"game over, player 2 wins\")\n",
    "                break\n",
    "            else:\n",
    "                p1=True\n",
    "    print_bord()\n",
    "    restart=input(\"Do you want to play again? y/n\")\n",
    "    if restart.lower()==\"y\":\n",
    "        reset_game()"
   ]
  },
  {
   "cell_type": "code",
   "execution_count": 12,
   "metadata": {},
   "outputs": [],
   "source": [
    "def reset_game():\n",
    "    bord=[[\"_\",\"_\",\"_\"],[\"_\",\"_\",\"_\"],[\"_\",\"_\",\"_\"]]\n",
    "    start_game()"
   ]
  },
  {
   "cell_type": "code",
   "execution_count": 13,
   "metadata": {},
   "outputs": [
    {
     "name": "stdout",
     "output_type": "stream",
     "text": [
      "x _ o \n",
      "o x _ \n",
      "o x x \n",
      "\n",
      "Do you want to play again? y/nn\n"
     ]
    }
   ],
   "source": [
    "start_game()"
   ]
  },
  {
   "cell_type": "code",
   "execution_count": null,
   "metadata": {},
   "outputs": [],
   "source": [
    "print_bord()"
   ]
  },
  {
   "cell_type": "code",
   "execution_count": null,
   "metadata": {},
   "outputs": [],
   "source": []
  },
  {
   "cell_type": "code",
   "execution_count": null,
   "metadata": {},
   "outputs": [],
   "source": [
    "bord"
   ]
  },
  {
   "cell_type": "code",
   "execution_count": null,
   "metadata": {},
   "outputs": [],
   "source": []
  },
  {
   "cell_type": "code",
   "execution_count": null,
   "metadata": {},
   "outputs": [],
   "source": []
  }
 ],
 "metadata": {
  "kernelspec": {
   "display_name": "Python 3",
   "language": "python",
   "name": "python3"
  },
  "language_info": {
   "codemirror_mode": {
    "name": "ipython",
    "version": 3
   },
   "file_extension": ".py",
   "mimetype": "text/x-python",
   "name": "python",
   "nbconvert_exporter": "python",
   "pygments_lexer": "ipython3",
   "version": "3.6.5"
  }
 },
 "nbformat": 4,
 "nbformat_minor": 2
}
